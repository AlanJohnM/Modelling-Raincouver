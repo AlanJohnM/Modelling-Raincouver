{
 "cells": [
  {
   "cell_type": "markdown",
   "metadata": {},
   "source": [
    "![\"rain\"](rain.jpeg)"
   ]
  },
  {
   "cell_type": "markdown",
   "metadata": {},
   "source": [
    "# Raincouver (in progress)\n",
    "\n",
    "While I claim that Vancouver, BC has the best weather (and best most other things) in Canada, one thing that it is known for is rain. Perhaps this is the price we pay for avoiding consistent 30&deg;C summers and -20&deg;C winters. Given this is the case one thing that can be useful living here is trying to figure out when the rain usually happens and how it behaves in general. If we have a working modelof how rain in Vancouver happens, then we can answer questions like how likely is it to rain tomorrow or when is the rainy season. Famous statistician George Box once said \"All models are wrong, but some are useful.\" Here we aim to build a useful one. If I could be build a model that was not wrong, then I would be rich, but alas modelling weather has proven to be a hard task for centuries."
   ]
  },
  {
   "cell_type": "markdown",
   "metadata": {},
   "source": [
    "## Building a Dataset\n"
   ]
  },
  {
   "cell_type": "markdown",
   "metadata": {},
   "source": [
    "Luckily, weather data is accessable to the public via the federal government. Unluckily, it is not some nice dataset and is instead reported in an inconsistent format and has tons of missing values. This makes sense though as they probably didn't care as much about \"big data applications\"  in 1930s."
   ]
  },
  {
   "cell_type": "code",
   "execution_count": 1,
   "metadata": {
    "scrolled": true
   },
   "outputs": [],
   "source": [
    "%%sh\n",
    "cd /Users/alansmacbook/Desktop/Learning/Raincouver/data;\n",
    "for year in `seq 1926 2021`; do\n",
    "    if ! [ -e \"en_climate_daily_BC_1108446_${year}_P1D.csv\" ]; then\n",
    "        wget --content-disposition \"https://climate.weather.gc.ca/climate_data/bulk_data_e.html?format=csv&stationID=888&Year=${year}&timeframe=2&submit= Download+Data\";\n",
    "    fi;\n",
    "done;\n",
    "\n",
    "for year in `seq 1962 2021`; do\n",
    "    if ! [ -e \"en_climate_daily_BC_1105669_${year}_P1D.csv\" ]; then\n",
    "        wget --content-disposition \"https://climate.weather.gc.ca/climate_data/bulk_data_e.html?format=csv&stationID=833&Year=${year}&timeframe=2&submit= Download+Data\";\n",
    "    fi;\n",
    "done;\n",
    "\n",
    "for year in `seq 2013 2021`; do\n",
    "    if ! [ -e \"en_climate_daily_BC_1108395_${year}_P1D.csv\" ]; then\n",
    "        wget --content-disposition \"https://climate.weather.gc.ca/climate_data/bulk_data_e.html?format=csv&stationID=51442&Year=${year}&timeframe=2&submit= Download+Data\";\n",
    "    fi;\n",
    "done;\n",
    "\n",
    "for year in `seq 1977 2021`; do\n",
    "    if ! [ -e \"en_climate_daily_BC_1106PF7_${year}_P1D.csv\" ]; then\n",
    "        wget --content-disposition \"https://climate.weather.gc.ca/climate_data/bulk_data_e.html?format=csv&stationID=837&Year=${year}&timeframe=2&submit= Download+Data\";\n",
    "    fi;\n",
    "done;"
   ]
  },
  {
   "cell_type": "markdown",
   "metadata": {},
   "source": [
    "In order to deal with the missing values (which we will take a look at below), we will get data from four different weather stations around Metro Vancouver. The four are annotated below on a map of vancouver with their official name as follows.\n",
    "\n",
    "\n",
    "| Marker |  Station Name  |\n",
    "| --- | ---  |\n",
    "| 1 |  VANCOUVER HARBOUR CS |\n",
    "| 2 |  N VANCOUVER WHARVES |\n",
    "| 3 |  VANCOUVER INTL A |\n",
    "| 4 |  RICHMOND NATURE PARK |"
   ]
  },
  {
   "cell_type": "markdown",
   "metadata": {},
   "source": [
    "![\"map\"](map_annotated.png)"
   ]
  },
  {
   "cell_type": "code",
   "execution_count": 42,
   "metadata": {},
   "outputs": [],
   "source": [
    "import numpy as np\n",
    "import pandas as pd\n",
    "import torch\n",
    "import sklearn\n",
    "import matplotlib.pyplot as plt\n",
    "import tqdm\n",
    "import sys\n",
    "import os"
   ]
  },
  {
   "cell_type": "code",
   "execution_count": 3,
   "metadata": {},
   "outputs": [
    {
     "data": {
      "text/plain": [
       "['Longitude (x)',\n",
       " 'Latitude (y)',\n",
       " 'Station Name',\n",
       " 'Climate ID',\n",
       " 'Date/Time',\n",
       " 'Year',\n",
       " 'Month',\n",
       " 'Day',\n",
       " 'Data Quality',\n",
       " 'Max Temp (°C)',\n",
       " 'Max Temp Flag',\n",
       " 'Min Temp (°C)',\n",
       " 'Min Temp Flag',\n",
       " 'Mean Temp (°C)',\n",
       " 'Mean Temp Flag',\n",
       " 'Heat Deg Days (°C)',\n",
       " 'Heat Deg Days Flag',\n",
       " 'Cool Deg Days (°C)',\n",
       " 'Cool Deg Days Flag',\n",
       " 'Total Rain (mm)',\n",
       " 'Total Rain Flag',\n",
       " 'Total Snow (cm)',\n",
       " 'Total Snow Flag',\n",
       " 'Total Precip (mm)',\n",
       " 'Total Precip Flag',\n",
       " 'Snow on Grnd (cm)',\n",
       " 'Snow on Grnd Flag',\n",
       " 'Dir of Max Gust (10s deg)',\n",
       " 'Dir of Max Gust Flag',\n",
       " 'Spd of Max Gust (km/h)',\n",
       " 'Spd of Max Gust Flag']"
      ]
     },
     "execution_count": 3,
     "metadata": {},
     "output_type": "execute_result"
    }
   ],
   "source": [
    "data_dir = \"/Users/alansmacbook/Desktop/Learning/Raincouver/data/\"\n",
    "stations =  [\"VANCOUVER HARBOUR CS\", \"N VANCOUVER WHARVES\", \"VANCOUVER INTL A\", \"RICHMOND NATURE PARK\"]\n",
    "csv_files = [f for f in os.listdir(data_dir) if f[0] != \".\"]\n",
    "frames = []\n",
    "for file in csv_files:\n",
    "    frames.append(pd.read_csv(data_dir + file))\n",
    "weather_data = pd.concat(frames)\n",
    "weather_data.columns.tolist()"
   ]
  },
  {
   "cell_type": "markdown",
   "metadata": {},
   "source": [
    "Several of these columns I do not particularly care  about for rain purposes, but we will keep a few that are not stricly relevant in case we want to do any other analysis later. I am also going reset the index to be ordered based on the \"Date/Time\" Column to ensure that this is indeed time series data up to station (which we will deal with later)."
   ]
  },
  {
   "cell_type": "code",
   "execution_count": 4,
   "metadata": {},
   "outputs": [],
   "source": [
    "weather_data = weather_data.drop(columns=\n",
    "                ['Longitude (x)', \n",
    "                'Latitude (y)', \n",
    "                'Climate ID',\n",
    "                'Max Temp Flag', \n",
    "                'Min Temp Flag',\n",
    "                'Mean Temp Flag', \n",
    "                'Heat Deg Days (°C)', \n",
    "                'Heat Deg Days Flag',\n",
    "                'Cool Deg Days (°C)',\n",
    "                'Cool Deg Days Flag',\n",
    "                'Snow on Grnd (cm)',\n",
    "                'Snow on Grnd Flag', \n",
    "                'Dir of Max Gust (10s deg)',\n",
    "                'Dir of Max Gust Flag', \n",
    "                'Spd of Max Gust (km/h)',\n",
    "                'Spd of Max Gust Flag'])\n",
    "\n",
    "weather_data = weather_data.sort_values(\"Date/Time\").reset_index(drop=True)"
   ]
  },
  {
   "cell_type": "code",
   "execution_count": 5,
   "metadata": {},
   "outputs": [
    {
     "data": {
      "text/html": [
       "<div>\n",
       "<style scoped>\n",
       "    .dataframe tbody tr th:only-of-type {\n",
       "        vertical-align: middle;\n",
       "    }\n",
       "\n",
       "    .dataframe tbody tr th {\n",
       "        vertical-align: top;\n",
       "    }\n",
       "\n",
       "    .dataframe thead th {\n",
       "        text-align: right;\n",
       "    }\n",
       "</style>\n",
       "<table border=\"1\" class=\"dataframe\">\n",
       "  <thead>\n",
       "    <tr style=\"text-align: right;\">\n",
       "      <th></th>\n",
       "      <th>Station Name</th>\n",
       "      <th>Date/Time</th>\n",
       "      <th>Year</th>\n",
       "      <th>Month</th>\n",
       "      <th>Day</th>\n",
       "      <th>Data Quality</th>\n",
       "      <th>Max Temp (°C)</th>\n",
       "      <th>Min Temp (°C)</th>\n",
       "      <th>Mean Temp (°C)</th>\n",
       "      <th>Total Rain (mm)</th>\n",
       "      <th>Total Rain Flag</th>\n",
       "      <th>Total Snow (cm)</th>\n",
       "      <th>Total Snow Flag</th>\n",
       "      <th>Total Precip (mm)</th>\n",
       "      <th>Total Precip Flag</th>\n",
       "    </tr>\n",
       "  </thead>\n",
       "  <tbody>\n",
       "    <tr>\n",
       "      <th>0</th>\n",
       "      <td>VANCOUVER HARBOUR CS</td>\n",
       "      <td>1926-01-01</td>\n",
       "      <td>1926</td>\n",
       "      <td>1</td>\n",
       "      <td>1</td>\n",
       "      <td>NaN</td>\n",
       "      <td>NaN</td>\n",
       "      <td>NaN</td>\n",
       "      <td>NaN</td>\n",
       "      <td>0.0</td>\n",
       "      <td>NaN</td>\n",
       "      <td>0.0</td>\n",
       "      <td>NaN</td>\n",
       "      <td>0.0</td>\n",
       "      <td>NaN</td>\n",
       "    </tr>\n",
       "    <tr>\n",
       "      <th>1</th>\n",
       "      <td>VANCOUVER HARBOUR CS</td>\n",
       "      <td>1926-01-02</td>\n",
       "      <td>1926</td>\n",
       "      <td>1</td>\n",
       "      <td>2</td>\n",
       "      <td>NaN</td>\n",
       "      <td>NaN</td>\n",
       "      <td>NaN</td>\n",
       "      <td>NaN</td>\n",
       "      <td>0.0</td>\n",
       "      <td>NaN</td>\n",
       "      <td>0.0</td>\n",
       "      <td>NaN</td>\n",
       "      <td>0.0</td>\n",
       "      <td>NaN</td>\n",
       "    </tr>\n",
       "    <tr>\n",
       "      <th>2</th>\n",
       "      <td>VANCOUVER HARBOUR CS</td>\n",
       "      <td>1926-01-03</td>\n",
       "      <td>1926</td>\n",
       "      <td>1</td>\n",
       "      <td>3</td>\n",
       "      <td>NaN</td>\n",
       "      <td>NaN</td>\n",
       "      <td>NaN</td>\n",
       "      <td>NaN</td>\n",
       "      <td>3.0</td>\n",
       "      <td>NaN</td>\n",
       "      <td>0.0</td>\n",
       "      <td>NaN</td>\n",
       "      <td>3.0</td>\n",
       "      <td>NaN</td>\n",
       "    </tr>\n",
       "    <tr>\n",
       "      <th>3</th>\n",
       "      <td>VANCOUVER HARBOUR CS</td>\n",
       "      <td>1926-01-04</td>\n",
       "      <td>1926</td>\n",
       "      <td>1</td>\n",
       "      <td>4</td>\n",
       "      <td>NaN</td>\n",
       "      <td>NaN</td>\n",
       "      <td>NaN</td>\n",
       "      <td>NaN</td>\n",
       "      <td>4.3</td>\n",
       "      <td>NaN</td>\n",
       "      <td>0.0</td>\n",
       "      <td>NaN</td>\n",
       "      <td>4.3</td>\n",
       "      <td>NaN</td>\n",
       "    </tr>\n",
       "    <tr>\n",
       "      <th>4</th>\n",
       "      <td>VANCOUVER HARBOUR CS</td>\n",
       "      <td>1926-01-05</td>\n",
       "      <td>1926</td>\n",
       "      <td>1</td>\n",
       "      <td>5</td>\n",
       "      <td>NaN</td>\n",
       "      <td>NaN</td>\n",
       "      <td>NaN</td>\n",
       "      <td>NaN</td>\n",
       "      <td>46.5</td>\n",
       "      <td>NaN</td>\n",
       "      <td>0.0</td>\n",
       "      <td>NaN</td>\n",
       "      <td>46.5</td>\n",
       "      <td>NaN</td>\n",
       "    </tr>\n",
       "    <tr>\n",
       "      <th>5</th>\n",
       "      <td>VANCOUVER HARBOUR CS</td>\n",
       "      <td>1926-01-06</td>\n",
       "      <td>1926</td>\n",
       "      <td>1</td>\n",
       "      <td>6</td>\n",
       "      <td>NaN</td>\n",
       "      <td>NaN</td>\n",
       "      <td>NaN</td>\n",
       "      <td>NaN</td>\n",
       "      <td>0.0</td>\n",
       "      <td>NaN</td>\n",
       "      <td>0.0</td>\n",
       "      <td>NaN</td>\n",
       "      <td>0.0</td>\n",
       "      <td>NaN</td>\n",
       "    </tr>\n",
       "    <tr>\n",
       "      <th>6</th>\n",
       "      <td>VANCOUVER HARBOUR CS</td>\n",
       "      <td>1926-01-07</td>\n",
       "      <td>1926</td>\n",
       "      <td>1</td>\n",
       "      <td>7</td>\n",
       "      <td>NaN</td>\n",
       "      <td>NaN</td>\n",
       "      <td>NaN</td>\n",
       "      <td>NaN</td>\n",
       "      <td>0.0</td>\n",
       "      <td>NaN</td>\n",
       "      <td>0.0</td>\n",
       "      <td>NaN</td>\n",
       "      <td>0.0</td>\n",
       "      <td>NaN</td>\n",
       "    </tr>\n",
       "    <tr>\n",
       "      <th>7</th>\n",
       "      <td>VANCOUVER HARBOUR CS</td>\n",
       "      <td>1926-01-08</td>\n",
       "      <td>1926</td>\n",
       "      <td>1</td>\n",
       "      <td>8</td>\n",
       "      <td>NaN</td>\n",
       "      <td>NaN</td>\n",
       "      <td>NaN</td>\n",
       "      <td>NaN</td>\n",
       "      <td>0.3</td>\n",
       "      <td>NaN</td>\n",
       "      <td>0.0</td>\n",
       "      <td>NaN</td>\n",
       "      <td>0.3</td>\n",
       "      <td>NaN</td>\n",
       "    </tr>\n",
       "    <tr>\n",
       "      <th>8</th>\n",
       "      <td>VANCOUVER HARBOUR CS</td>\n",
       "      <td>1926-01-09</td>\n",
       "      <td>1926</td>\n",
       "      <td>1</td>\n",
       "      <td>9</td>\n",
       "      <td>NaN</td>\n",
       "      <td>NaN</td>\n",
       "      <td>NaN</td>\n",
       "      <td>NaN</td>\n",
       "      <td>0.0</td>\n",
       "      <td>NaN</td>\n",
       "      <td>0.0</td>\n",
       "      <td>NaN</td>\n",
       "      <td>0.0</td>\n",
       "      <td>NaN</td>\n",
       "    </tr>\n",
       "    <tr>\n",
       "      <th>9</th>\n",
       "      <td>VANCOUVER HARBOUR CS</td>\n",
       "      <td>1926-01-10</td>\n",
       "      <td>1926</td>\n",
       "      <td>1</td>\n",
       "      <td>10</td>\n",
       "      <td>NaN</td>\n",
       "      <td>NaN</td>\n",
       "      <td>NaN</td>\n",
       "      <td>NaN</td>\n",
       "      <td>0.0</td>\n",
       "      <td>NaN</td>\n",
       "      <td>0.0</td>\n",
       "      <td>NaN</td>\n",
       "      <td>0.0</td>\n",
       "      <td>NaN</td>\n",
       "    </tr>\n",
       "  </tbody>\n",
       "</table>\n",
       "</div>"
      ],
      "text/plain": [
       "           Station Name   Date/Time  Year  Month  Day Data Quality  \\\n",
       "0  VANCOUVER HARBOUR CS  1926-01-01  1926      1    1          NaN   \n",
       "1  VANCOUVER HARBOUR CS  1926-01-02  1926      1    2          NaN   \n",
       "2  VANCOUVER HARBOUR CS  1926-01-03  1926      1    3          NaN   \n",
       "3  VANCOUVER HARBOUR CS  1926-01-04  1926      1    4          NaN   \n",
       "4  VANCOUVER HARBOUR CS  1926-01-05  1926      1    5          NaN   \n",
       "5  VANCOUVER HARBOUR CS  1926-01-06  1926      1    6          NaN   \n",
       "6  VANCOUVER HARBOUR CS  1926-01-07  1926      1    7          NaN   \n",
       "7  VANCOUVER HARBOUR CS  1926-01-08  1926      1    8          NaN   \n",
       "8  VANCOUVER HARBOUR CS  1926-01-09  1926      1    9          NaN   \n",
       "9  VANCOUVER HARBOUR CS  1926-01-10  1926      1   10          NaN   \n",
       "\n",
       "   Max Temp (°C)  Min Temp (°C)  Mean Temp (°C)  Total Rain (mm)  \\\n",
       "0            NaN            NaN             NaN              0.0   \n",
       "1            NaN            NaN             NaN              0.0   \n",
       "2            NaN            NaN             NaN              3.0   \n",
       "3            NaN            NaN             NaN              4.3   \n",
       "4            NaN            NaN             NaN             46.5   \n",
       "5            NaN            NaN             NaN              0.0   \n",
       "6            NaN            NaN             NaN              0.0   \n",
       "7            NaN            NaN             NaN              0.3   \n",
       "8            NaN            NaN             NaN              0.0   \n",
       "9            NaN            NaN             NaN              0.0   \n",
       "\n",
       "  Total Rain Flag  Total Snow (cm) Total Snow Flag  Total Precip (mm)  \\\n",
       "0             NaN              0.0             NaN                0.0   \n",
       "1             NaN              0.0             NaN                0.0   \n",
       "2             NaN              0.0             NaN                3.0   \n",
       "3             NaN              0.0             NaN                4.3   \n",
       "4             NaN              0.0             NaN               46.5   \n",
       "5             NaN              0.0             NaN                0.0   \n",
       "6             NaN              0.0             NaN                0.0   \n",
       "7             NaN              0.0             NaN                0.3   \n",
       "8             NaN              0.0             NaN                0.0   \n",
       "9             NaN              0.0             NaN                0.0   \n",
       "\n",
       "  Total Precip Flag  \n",
       "0               NaN  \n",
       "1               NaN  \n",
       "2               NaN  \n",
       "3               NaN  \n",
       "4               NaN  \n",
       "5               NaN  \n",
       "6               NaN  \n",
       "7               NaN  \n",
       "8               NaN  \n",
       "9               NaN  "
      ]
     },
     "execution_count": 5,
     "metadata": {},
     "output_type": "execute_result"
    }
   ],
   "source": [
    "weather_data.head(10)"
   ]
  },
  {
   "cell_type": "markdown",
   "metadata": {},
   "source": [
    "We can merge the data for each year, drop some columns we we won't be dealing with, and sort chronologically. When Looking at the data I noticed many empty entries, so I wanted to get an idea of how bad the problem is. Some records are specifically flagged  as missing in the Total Rain Flag column, but there appear to be other values that are empty and unflagged despite having positive total precipitation (which is rain plus snow)."
   ]
  },
  {
   "cell_type": "code",
   "execution_count": 6,
   "metadata": {},
   "outputs": [],
   "source": [
    "def analyzeMissing(station_data):\n",
    "    total_records = len(station_data)\n",
    "    missing_records = station_data[station_data[\"Total Rain (mm)\"].isnull()]\n",
    "    flagged_missing_records = station_data[station_data[\"Total Rain Flag\"] == \"M\"]\n",
    "    records_minus_flagged = station_data[station_data[\"Total Rain Flag\"] != \"M\"]\n",
    "    station_name = station_data['Station Name'].unique()[0]\n",
    "    print(f\"Station Name: {station_name}\")\n",
    "    print(f\"Total Records: {total_records}\")\n",
    "    print(f\"Total Missing Records: {len(missing_records)}\")\n",
    "    print(f\"Flagged Missing Records: {len(flagged_missing_records)}\")\n",
    "    print(f\"Percent Missing: {100*round(len(missing_records)/total_records,4)}%\")\n",
    "    plt.figure(figsize=(15,10))\n",
    "    plt.bar(x=missing_records[\"Year\"].unique(), height=missing_records.groupby(\"Year\").count()[\"Day\"])\n",
    "    plt.title(f\"Days Missing Per Year at {station_name}\")"
   ]
  },
  {
   "cell_type": "code",
   "execution_count": 7,
   "metadata": {},
   "outputs": [
    {
     "name": "stdout",
     "output_type": "stream",
     "text": [
      "Station Name: VANCOUVER HARBOUR CS\n",
      "Total Records: 35064\n",
      "Total Missing Records: 13525\n",
      "Flagged Missing Records: 4328\n",
      "Percent Missing: 38.57%\n"
     ]
    },
    {
     "data": {
      "image/png": "[encoded data removed]",
      "text/plain": [
       "<Figure size 1080x720 with 1 Axes>"
      ]
     },
     "metadata": {
      "needs_background": "light"
     },
     "output_type": "display_data"
    }
   ],
   "source": [
    "analyzeMissing(weather_data[weather_data[\"Station Name\"] == stations[0]])"
   ]
  },
  {
   "cell_type": "code",
   "execution_count": 8,
   "metadata": {},
   "outputs": [
    {
     "name": "stdout",
     "output_type": "stream",
     "text": [
      "Station Name: N VANCOUVER WHARVES\n",
      "Total Records: 21915\n",
      "Total Missing Records: 2180\n",
      "Flagged Missing Records: 56\n",
      "Percent Missing: 9.950000000000001%\n"
     ]
    },
    {
     "data": {
      "image/png": "[encoded data removed]",
      "text/plain": [
       "<Figure size 1080x720 with 1 Axes>"
      ]
     },
     "metadata": {
      "needs_background": "light"
     },
     "output_type": "display_data"
    }
   ],
   "source": [
    "analyzeMissing(weather_data[weather_data[\"Station Name\"] == stations[1]])"
   ]
  },
  {
   "cell_type": "code",
   "execution_count": 9,
   "metadata": {},
   "outputs": [
    {
     "name": "stdout",
     "output_type": "stream",
     "text": [
      "Station Name: VANCOUVER INTL A\n",
      "Total Records: 3287\n",
      "Total Missing Records: 205\n",
      "Flagged Missing Records: 35\n",
      "Percent Missing: 6.239999999999999%\n"
     ]
    },
    {
     "data": {
      "image/png": "[encoded data removed]",
      "text/plain": [
       "<Figure size 1080x720 with 1 Axes>"
      ]
     },
     "metadata": {
      "needs_background": "light"
     },
     "output_type": "display_data"
    }
   ],
   "source": [
    "analyzeMissing(weather_data[weather_data[\"Station Name\"] == stations[2]])"
   ]
  },
  {
   "cell_type": "code",
   "execution_count": 10,
   "metadata": {},
   "outputs": [
    {
     "name": "stdout",
     "output_type": "stream",
     "text": [
      "Station Name: RICHMOND NATURE PARK\n",
      "Total Records: 16436\n",
      "Total Missing Records: 932\n",
      "Flagged Missing Records: 42\n",
      "Percent Missing: 5.67%\n"
     ]
    },
    {
     "data": {
      "image/png": "[encoded data removed]",
      "text/plain": [
       "<Figure size 1080x720 with 1 Axes>"
      ]
     },
     "metadata": {
      "needs_background": "light"
     },
     "output_type": "display_data"
    }
   ],
   "source": [
    "analyzeMissing(weather_data[weather_data[\"Station Name\"] == stations[3]])"
   ]
  },
  {
   "cell_type": "markdown",
   "metadata": {},
   "source": [
    "So unfortunatly not only is there a lot of missing data, the system being used to flag this data is inconsistent as well. Given this, I am going to ignore the flag column and just treat all missing values as the same. To get a more accurate picture of when it does rain, I will make a simplifying assumption that if it rains at at least one of the stations we are looking at then it has rained in Vancouver. With this assumption we can combine the four stations data to fill in where each other have missing data. In the case that multiple measurments exist, I would like to aggregate with the mean, but I first am going to check for any outlier values at each station so that the mean does not adversely influence any of the aggregations. Annoyingly PyPlot's BoxPlot doesn't have an option to ignore NaN values so we will have to remove those manually."
   ]
  },
  {
   "cell_type": "code",
   "execution_count": 11,
   "metadata": {},
   "outputs": [
    {
     "data": {
      "image/png": "[encoded data removed]",
      "text/plain": [
       "<Figure size 1080x720 with 4 Axes>"
      ]
     },
     "metadata": {
      "needs_background": "light"
     },
     "output_type": "display_data"
    }
   ],
   "source": [
    "plt.figure(figsize=(15,10))\n",
    "for i, station  in enumerate(stations):\n",
    "    station_rain = weather_data[weather_data[\"Station Name\"] == station][\"Total Rain (mm)\"]\n",
    "    filtered_station_rain = station_rain[~station_rain.isna()]\n",
    "    plt.subplot(1,4,i+1)\n",
    "    plt.title(stations[i])\n",
    "    plt.boxplot(filtered_station_rain)"
   ]
  },
  {
   "cell_type": "code",
   "execution_count": 12,
   "metadata": {},
   "outputs": [
    {
     "data": {
      "text/html": [
       "<div>\n",
       "<style scoped>\n",
       "    .dataframe tbody tr th:only-of-type {\n",
       "        vertical-align: middle;\n",
       "    }\n",
       "\n",
       "    .dataframe tbody tr th {\n",
       "        vertical-align: top;\n",
       "    }\n",
       "\n",
       "    .dataframe thead th {\n",
       "        text-align: right;\n",
       "    }\n",
       "</style>\n",
       "<table border=\"1\" class=\"dataframe\">\n",
       "  <thead>\n",
       "    <tr style=\"text-align: right;\">\n",
       "      <th></th>\n",
       "      <th>VANCOUVER HARBOUR CS</th>\n",
       "      <th>N VANCOUVER WHARVES</th>\n",
       "      <th>VANCOUVER INTL A</th>\n",
       "      <th>RICHMOND NATURE PARK</th>\n",
       "    </tr>\n",
       "  </thead>\n",
       "  <tbody>\n",
       "    <tr>\n",
       "      <th>count</th>\n",
       "      <td>21539.000000</td>\n",
       "      <td>19735.000000</td>\n",
       "      <td>3082.000000</td>\n",
       "      <td>15504.000000</td>\n",
       "    </tr>\n",
       "    <tr>\n",
       "      <th>mean</th>\n",
       "      <td>3.964307</td>\n",
       "      <td>4.890565</td>\n",
       "      <td>3.158014</td>\n",
       "      <td>3.381760</td>\n",
       "    </tr>\n",
       "    <tr>\n",
       "      <th>std</th>\n",
       "      <td>8.638749</td>\n",
       "      <td>10.342854</td>\n",
       "      <td>6.555007</td>\n",
       "      <td>6.813287</td>\n",
       "    </tr>\n",
       "    <tr>\n",
       "      <th>min</th>\n",
       "      <td>0.000000</td>\n",
       "      <td>0.000000</td>\n",
       "      <td>0.000000</td>\n",
       "      <td>0.000000</td>\n",
       "    </tr>\n",
       "    <tr>\n",
       "      <th>25%</th>\n",
       "      <td>0.000000</td>\n",
       "      <td>0.000000</td>\n",
       "      <td>0.000000</td>\n",
       "      <td>0.000000</td>\n",
       "    </tr>\n",
       "    <tr>\n",
       "      <th>50%</th>\n",
       "      <td>0.000000</td>\n",
       "      <td>0.000000</td>\n",
       "      <td>0.000000</td>\n",
       "      <td>0.200000</td>\n",
       "    </tr>\n",
       "    <tr>\n",
       "      <th>75%</th>\n",
       "      <td>4.100000</td>\n",
       "      <td>5.800000</td>\n",
       "      <td>3.200000</td>\n",
       "      <td>3.800000</td>\n",
       "    </tr>\n",
       "    <tr>\n",
       "      <th>max</th>\n",
       "      <td>203.200000</td>\n",
       "      <td>288.200000</td>\n",
       "      <td>67.000000</td>\n",
       "      <td>93.800000</td>\n",
       "    </tr>\n",
       "  </tbody>\n",
       "</table>\n",
       "</div>"
      ],
      "text/plain": [
       "       VANCOUVER HARBOUR CS  N VANCOUVER WHARVES  VANCOUVER INTL A  \\\n",
       "count          21539.000000         19735.000000       3082.000000   \n",
       "mean               3.964307             4.890565          3.158014   \n",
       "std                8.638749            10.342854          6.555007   \n",
       "min                0.000000             0.000000          0.000000   \n",
       "25%                0.000000             0.000000          0.000000   \n",
       "50%                0.000000             0.000000          0.000000   \n",
       "75%                4.100000             5.800000          3.200000   \n",
       "max              203.200000           288.200000         67.000000   \n",
       "\n",
       "       RICHMOND NATURE PARK  \n",
       "count          15504.000000  \n",
       "mean               3.381760  \n",
       "std                6.813287  \n",
       "min                0.000000  \n",
       "25%                0.000000  \n",
       "50%                0.200000  \n",
       "75%                3.800000  \n",
       "max               93.800000  "
      ]
     },
     "execution_count": 12,
     "metadata": {},
     "output_type": "execute_result"
    }
   ],
   "source": [
    "summaries = []\n",
    "for i, station  in enumerate(stations):\n",
    "    summaries.append(weather_data[weather_data[\"Station Name\"] == station][\"Total Rain (mm)\"].rename(station).describe())\n",
    "summaries = pd.concat(summaries, axis=1)\n",
    "summaries"
   ]
  },
  {
   "cell_type": "markdown",
   "metadata": {},
   "source": [
    "Looking at the boxplots and summary statistics, there are clearly some very large values that traditionally one could consider outliers, but in this case I think the data makes sense. For example, the stations that have more records  have higher maximums, which would be consistent with more observations under the assumption that these large observations are less likley (which I think is a realistic assumption). The standard deviation is relativly low as well  which suggests that a significant portion of the data lies close to the mean. Given these observations I am comfortable taking mean across shared observations to combined the data. We will do so by grouping by the data and aggregating the rain column."
   ]
  },
  {
   "cell_type": "code",
   "execution_count": 14,
   "metadata": {},
   "outputs": [
    {
     "name": "stdout",
     "output_type": "stream",
     "text": [
      "Total Records: 35064\n",
      "Total Missing Records: 732\n",
      "Percent Missing: 2.09%\n"
     ]
    },
    {
     "data": {
      "image/png": "[encoded data removed]",
      "text/plain": [
       "<Figure size 1080x720 with 1 Axes>"
      ]
     },
     "metadata": {
      "needs_background": "light"
     },
     "output_type": "display_data"
    }
   ],
   "source": [
    "merged_rain_data = weather_data.groupby([\"Year\", \"Month\", \"Day\"]).mean()[\"Total Rain (mm)\"].reset_index()\n",
    "total_records = len(merged_rain_data)\n",
    "missing_records = merged_rain_data[merged_rain_data[\"Total Rain (mm)\"].isnull()]\n",
    "print(f\"Total Records: {total_records}\")\n",
    "print(f\"Total Missing Records: {len(missing_records)}\")\n",
    "print(f\"Percent Missing: {100*round(len(missing_records)/total_records,4)}%\")\n",
    "plt.figure(figsize=(15,10))\n",
    "plt.bar(x=missing_records[\"Year\"].unique(), height=missing_records.groupby(\"Year\").count()[\"Day\"])\n",
    "plt.title(\"Days Missing Per Year\")\n",
    "plt.show()"
   ]
  },
  {
   "cell_type": "markdown",
   "metadata": {},
   "source": [
    "Now we are looking in quite a bit better shape. There are still some missing data, particularly around the 1960s and 2010s, which I would like to take a look at and see if we can make any decent assumptions about that data."
   ]
  },
  {
   "cell_type": "code",
   "execution_count": 15,
   "metadata": {},
   "outputs": [],
   "source": [
    "def missingYearsMap(start_year, end_year):\n",
    "    assert start_year <= end_year\n",
    "    year_range = range(end_year, start_year - 1, -1)\n",
    "    plt.figure(figsize=(20,end_year - start_year))\n",
    "    X = np.zeros((len(year_range),355))\n",
    "    for i in year_range:\n",
    "        X[i - min(year_range),:] = merged_rain_data[merged_rain_data[\"Year\"] == i][\"Total Rain (mm)\"].isna()[0:355]\n",
    "    plt.title(f\"Missing data from {start_year} to {end_year}\")\n",
    "    plt.xlabel(\"Day\")\n",
    "    plt.ylabel(\"Year\")\n",
    "    plt.yticks(ticks=np.arange(end_year - start_year + 1)[::-1], labels=year_range)\n",
    "    plt.imshow(X, interpolation='nearest', aspect='auto')\n",
    "    plt.show()"
   ]
  },
  {
   "cell_type": "code",
   "execution_count": 16,
   "metadata": {},
   "outputs": [
    {
     "data": {
      "image/png": "[encoded data removed]",
      "text/plain": [
       "<Figure size 1440x1080 with 1 Axes>"
      ]
     },
     "metadata": {
      "needs_background": "light"
     },
     "output_type": "display_data"
    }
   ],
   "source": [
    "missingYearsMap(1955,1970)"
   ]
  },
  {
   "cell_type": "code",
   "execution_count": 17,
   "metadata": {},
   "outputs": [
    {
     "data": {
      "image/png": "[encoded data removed]",
      "text/plain": [
       "<Figure size 1440x504 with 1 Axes>"
      ]
     },
     "metadata": {
      "needs_background": "light"
     },
     "output_type": "display_data"
    }
   ],
   "source": [
    "missingYearsMap(2005,2012)"
   ]
  },
  {
   "cell_type": "code",
   "execution_count": 18,
   "metadata": {},
   "outputs": [
    {
     "data": {
      "image/png": "[encoded data removed]",
      "text/plain": [
       "<Figure size 1440x216 with 1 Axes>"
      ]
     },
     "metadata": {
      "needs_background": "light"
     },
     "output_type": "display_data"
    }
   ],
   "source": [
    "missingYearsMap(1935,1938)"
   ]
  },
  {
   "cell_type": "markdown",
   "metadata": {},
   "source": [
    "So now we have a much clearer picture of what exactly the remaining missing data looks like. Here we are going to have to make some tough decisions on what to do. Two of the years (2007, 2010) have only a couple missing records and they are isolated, so I am comfortable interpolating those values with a cubic spline and calling it a day. For the remaining years this approach would be  somewhat problematic given that  we have several long stretches (often months) where there iz no data recorded. This would lend poorly to using interpolation so I suspect we would get very inaccurate estimates. There are other methods that we could use such as replacing the missing data with the average of their day or month or something (imputation) or if we want to get really fancy using some form of Expectation Maximization (EM). However, I am hesitant to use these given that in the full time series (across all years) the data is not independent. If we wanted to just consider individual years or months this may be okay, but when we consider the full time series it is problematic. For this reason I've elected to drop the years 1936, 1956, 1959, 1960, 1961, 1962, 1964, 1965, 2008, and 2009 from the dataset for when we consider the full time series from 1926 to 2021. If we want model months or years independently, then it may be possible to use methods like imputation so I will keep the missing years around, but from here on will call the \"Complete Dataset\" the one with no missing values and the \"Partial Dataset\" as the data including the above years."
   ]
  },
  {
   "cell_type": "code",
   "execution_count": 19,
   "metadata": {},
   "outputs": [
    {
     "name": "stdout",
     "output_type": "stream",
     "text": [
      "Missing Records in Complete Dataset: 0\n"
     ]
    }
   ],
   "source": [
    "bad_years = [1936, 1956, 1959, 1960, 1961, 1962, 1964, 1965, 2008, 2009]\n",
    "\n",
    "PartialDataset  = merged_rain_data\n",
    "CompleteDataset = merged_rain_data[merged_rain_data[\"Year\"].map(lambda x: x not in bad_years)].reset_index(drop=True)\n",
    "CompleteDataset = CompleteDataset.interpolate(method=\"cubicspline\")\n",
    "\n",
    "print(f\"Missing Records in Complete Dataset: {len(CompleteDataset[CompleteDataset['Total Rain (mm)'].isnull()])}\")\n"
   ]
  },
  {
   "cell_type": "markdown",
   "metadata": {},
   "source": [
    "## Some Exploratory Data Analysis"
   ]
  },
  {
   "cell_type": "markdown",
   "metadata": {},
   "source": [
    "I thought it would be interesting to pick out a few record of the most and least rain before do anything too series."
   ]
  },
  {
   "cell_type": "markdown",
   "metadata": {},
   "source": [
    "#### Years with Least Rain"
   ]
  },
  {
   "cell_type": "code",
   "execution_count": 20,
   "metadata": {},
   "outputs": [
    {
     "data": {
      "text/html": [
       "<div>\n",
       "<style scoped>\n",
       "    .dataframe tbody tr th:only-of-type {\n",
       "        vertical-align: middle;\n",
       "    }\n",
       "\n",
       "    .dataframe tbody tr th {\n",
       "        vertical-align: top;\n",
       "    }\n",
       "\n",
       "    .dataframe thead th {\n",
       "        text-align: right;\n",
       "    }\n",
       "</style>\n",
       "<table border=\"1\" class=\"dataframe\">\n",
       "  <thead>\n",
       "    <tr style=\"text-align: right;\">\n",
       "      <th></th>\n",
       "      <th>Total Rain (mm)</th>\n",
       "    </tr>\n",
       "    <tr>\n",
       "      <th>Year</th>\n",
       "      <th></th>\n",
       "    </tr>\n",
       "  </thead>\n",
       "  <tbody>\n",
       "    <tr>\n",
       "      <th>1929</th>\n",
       "      <td>904.600000</td>\n",
       "    </tr>\n",
       "    <tr>\n",
       "      <th>1985</th>\n",
       "      <td>991.633333</td>\n",
       "    </tr>\n",
       "    <tr>\n",
       "      <th>1952</th>\n",
       "      <td>1093.400000</td>\n",
       "    </tr>\n",
       "    <tr>\n",
       "      <th>2002</th>\n",
       "      <td>1103.200000</td>\n",
       "    </tr>\n",
       "    <tr>\n",
       "      <th>1987</th>\n",
       "      <td>1134.666667</td>\n",
       "    </tr>\n",
       "    <tr>\n",
       "      <th>1943</th>\n",
       "      <td>1137.400000</td>\n",
       "    </tr>\n",
       "    <tr>\n",
       "      <th>2019</th>\n",
       "      <td>1146.200000</td>\n",
       "    </tr>\n",
       "    <tr>\n",
       "      <th>1957</th>\n",
       "      <td>1152.100000</td>\n",
       "    </tr>\n",
       "    <tr>\n",
       "      <th>1930</th>\n",
       "      <td>1157.200000</td>\n",
       "    </tr>\n",
       "    <tr>\n",
       "      <th>1993</th>\n",
       "      <td>1167.050000</td>\n",
       "    </tr>\n",
       "  </tbody>\n",
       "</table>\n",
       "</div>"
      ],
      "text/plain": [
       "      Total Rain (mm)\n",
       "Year                 \n",
       "1929       904.600000\n",
       "1985       991.633333\n",
       "1952      1093.400000\n",
       "2002      1103.200000\n",
       "1987      1134.666667\n",
       "1943      1137.400000\n",
       "2019      1146.200000\n",
       "1957      1152.100000\n",
       "1930      1157.200000\n",
       "1993      1167.050000"
      ]
     },
     "execution_count": 20,
     "metadata": {},
     "output_type": "execute_result"
    }
   ],
   "source": [
    "CompleteDataset.drop([\"Month\", \"Day\"], axis=1).groupby(\"Year\").sum().sort_values(\"Total Rain (mm)\").head(10)"
   ]
  },
  {
   "cell_type": "code",
   "execution_count": 21,
   "metadata": {},
   "outputs": [
    {
     "data": {
      "text/html": [
       "<div>\n",
       "<style scoped>\n",
       "    .dataframe tbody tr th:only-of-type {\n",
       "        vertical-align: middle;\n",
       "    }\n",
       "\n",
       "    .dataframe tbody tr th {\n",
       "        vertical-align: top;\n",
       "    }\n",
       "\n",
       "    .dataframe thead th {\n",
       "        text-align: right;\n",
       "    }\n",
       "</style>\n",
       "<table border=\"1\" class=\"dataframe\">\n",
       "  <thead>\n",
       "    <tr style=\"text-align: right;\">\n",
       "      <th></th>\n",
       "      <th>Total Rain (mm)</th>\n",
       "    </tr>\n",
       "    <tr>\n",
       "      <th>Year</th>\n",
       "      <th></th>\n",
       "    </tr>\n",
       "  </thead>\n",
       "  <tbody>\n",
       "    <tr>\n",
       "      <th>2017</th>\n",
       "      <td>2011.750000</td>\n",
       "    </tr>\n",
       "    <tr>\n",
       "      <th>1974</th>\n",
       "      <td>1926.200000</td>\n",
       "    </tr>\n",
       "    <tr>\n",
       "      <th>1968</th>\n",
       "      <td>1872.200000</td>\n",
       "    </tr>\n",
       "    <tr>\n",
       "      <th>1997</th>\n",
       "      <td>1872.166667</td>\n",
       "    </tr>\n",
       "    <tr>\n",
       "      <th>1972</th>\n",
       "      <td>1870.950000</td>\n",
       "    </tr>\n",
       "    <tr>\n",
       "      <th>1975</th>\n",
       "      <td>1823.850000</td>\n",
       "    </tr>\n",
       "    <tr>\n",
       "      <th>1931</th>\n",
       "      <td>1822.800000</td>\n",
       "    </tr>\n",
       "    <tr>\n",
       "      <th>1966</th>\n",
       "      <td>1815.850000</td>\n",
       "    </tr>\n",
       "    <tr>\n",
       "      <th>1932</th>\n",
       "      <td>1806.500000</td>\n",
       "    </tr>\n",
       "    <tr>\n",
       "      <th>1984</th>\n",
       "      <td>1799.283333</td>\n",
       "    </tr>\n",
       "  </tbody>\n",
       "</table>\n",
       "</div>"
      ],
      "text/plain": [
       "      Total Rain (mm)\n",
       "Year                 \n",
       "2017      2011.750000\n",
       "1974      1926.200000\n",
       "1968      1872.200000\n",
       "1997      1872.166667\n",
       "1972      1870.950000\n",
       "1975      1823.850000\n",
       "1931      1822.800000\n",
       "1966      1815.850000\n",
       "1932      1806.500000\n",
       "1984      1799.283333"
      ]
     },
     "execution_count": 21,
     "metadata": {},
     "output_type": "execute_result"
    }
   ],
   "source": [
    "CompleteDataset.drop([\"Month\", \"Day\"], axis=1).groupby(\"Year\").sum().sort_values(\"Total Rain (mm)\", ascending=False).head(10)"
   ]
  },
  {
   "cell_type": "markdown",
   "metadata": {},
   "source": [
    "#### Average Rain by Month"
   ]
  },
  {
   "cell_type": "code",
   "execution_count": 22,
   "metadata": {},
   "outputs": [
    {
     "data": {
      "image/png": "[encoded data removed]",
      "text/plain": [
       "<Figure size 1080x720 with 1 Axes>"
      ]
     },
     "metadata": {
      "needs_background": "light"
     },
     "output_type": "display_data"
    }
   ],
   "source": [
    "plt.figure(figsize=(15,10))\n",
    "yearly_average = CompleteDataset.drop([\"Year\", \"Day\"], axis=1).groupby(\"Month\").mean()\n",
    "months = [\"January\", \"February\", \"March\", \"April\", \"May\", \"June\", \"July\", \"August\", \"September\", \"October\", \"November\", \"December\"]\n",
    "plt.bar(x=yearly_average.index.to_numpy(), height=yearly_average[\"Total Rain (mm)\"].to_numpy(), label = \"Per Year Average Rain\")\n",
    "plt.title(\"Monthly Average Rain\")\n",
    "plt.ylabel(\"(mm)\")\n",
    "plt.xlabel(\"Month\")\n",
    "plt.xticks(ticks=yearly_average.index.to_numpy(), labels=months)\n",
    "plt.show()"
   ]
  },
  {
   "cell_type": "markdown",
   "metadata": {},
   "source": [
    "#### Average Rain  Across the Years"
   ]
  },
  {
   "cell_type": "code",
   "execution_count": 23,
   "metadata": {},
   "outputs": [
    {
     "data": {
      "image/png": "[encoded data removed]",
      "text/plain": [
       "<Figure size 1080x720 with 1 Axes>"
      ]
     },
     "metadata": {
      "needs_background": "light"
     },
     "output_type": "display_data"
    }
   ],
   "source": [
    "plt.figure(figsize=(15,10))\n",
    "yearly_average = CompleteDataset.drop([\"Month\", \"Day\"], axis=1).groupby(\"Year\").mean()\n",
    "a, b = np.polyfit(yearly_average.index.to_numpy(), yearly_average[\"Total Rain (mm)\"].to_numpy(), 1)\n",
    "plt.bar(x=yearly_average.index.to_numpy(), height=yearly_average[\"Total Rain (mm)\"].to_numpy(), label = \"Per Year Average Rain\")\n",
    "plt.plot(yearly_average.index.to_numpy(), a*yearly_average.index.to_numpy()+b, \"--\", color=\"red\")\n",
    "plt.title(\"Yearly Average Rain\")\n",
    "plt.ylabel(\"(mm)\")\n",
    "plt.xlabel(\"Year\")\n",
    "plt.show()"
   ]
  },
  {
   "cell_type": "markdown",
   "metadata": {},
   "source": [
    "Recalling that the major gaps in the above visualizaiton are from where we had to drop some years, it appears that the average yearly rain is increasing very slightly but is fairly constant. If I had to guess maybe the  positive trendline has to do with global warming."
   ]
  },
  {
   "cell_type": "markdown",
   "metadata": {},
   "source": [
    "## Modeling the Rain"
   ]
  },
  {
   "cell_type": "markdown",
   "metadata": {},
   "source": [
    "To start things off, we are going to consider the question of \"Did it/Will it rain?\" rather than \"How much will it rain?\" The latter can be studied with many of the same methods as I'm going to talk about up to a few adjustments. For todays quesiton, we will need to change the dataset slightly from how much it rained to a binary variable. I'm going to make the (somewhat arbitrary) decision that if it rained at least one millimeter, then it rained in Vancouver. This could be adjusted without changing any of the methodology."
   ]
  },
  {
   "cell_type": "code",
   "execution_count": 24,
   "metadata": {},
   "outputs": [],
   "source": [
    "RainedDataset = CompleteDataset.copy()\n",
    "RainedDataset[\"Total Rain (mm)\"] = (CompleteDataset[\"Total Rain (mm)\"] > 1.0)\n",
    "RainedDataset = RainedDataset.rename(columns={\"Total Rain (mm)\":\"Rained\"})"
   ]
  },
  {
   "cell_type": "markdown",
   "metadata": {},
   "source": [
    "While we are here, I am going to cut the data  up into  a  couple different  numpy friendly matrices of varying time periods. This will help  modelling different time periods."
   ]
  },
  {
   "cell_type": "code",
   "execution_count": null,
   "metadata": {},
   "outputs": [],
   "source": [
    "XYears = np.stack([RainedDataset[RainedDataset[\"Year\"] == y][\"Rained\"].to_numpy(dtype=np.int8)[0:355] for y in RainedDataset[\"Year\"].unique()])\n"
   ]
  },
  {
   "cell_type": "code",
   "execution_count": 25,
   "metadata": {},
   "outputs": [],
   "source": [
    "def rainMap(X, start_date=0):\n",
    "    if X.ndim == 1:\n",
    "            X =  X[:,None].T\n",
    "    N,T = X.shape\n",
    "    X = ~X\n",
    "    plt.figure(figsize=(20,10))\n",
    "    plt.title(f\"Rain Heat (Cool?) Map\")\n",
    "    plt.xlabel(\"Day\")\n",
    "    plt.ylabel(\"Sample\")\n",
    "    plt.yticks(ticks=np.arange(N), labels=range(start_date, start_date+N))\n",
    "    plt.xticks(ticks=np.arange(T))\n",
    "    plt.imshow(X, interpolation='nearest', aspect='auto', cmap='coolwarm')\n",
    "    plt.show()"
   ]
  },
  {
   "cell_type": "markdown",
   "metadata": {},
   "source": [
    "#### Flipping a Coin"
   ]
  },
  {
   "cell_type": "markdown",
   "metadata": {},
   "source": [
    "Probably the simplest model one can think of if we want to sample rainy or not rainy days is just treat every day we have as independent and decide how likley it is to be rainy based on that. This can be characterized as a Bernoulli random variable, which is really just flipping a weighted coin. This model completely forgets that this is a time series, so no matter how I cut up the data (months, years, weeks, etc.) if I use one model I will get the same result. That said, you could make different Bernoullis for different time periods, but then we would essentially be forgetting about all the other data during that time period. Lets give this model a try."
   ]
  },
  {
   "cell_type": "code",
   "execution_count": 33,
   "metadata": {},
   "outputs": [
    {
     "name": "stdout",
     "output_type": "stream",
     "text": [
      "Probability of rain: 0.3923079372154478\n",
      "Negative Log Liklihood of Training Data: 0.6697692682955906\n"
     ]
    },
    {
     "data": {
      "image/png": "[encoded data removed]",
      "text/plain": [
       "<Figure size 1440x720 with 1 Axes>"
      ]
     },
     "metadata": {
      "needs_background": "light"
     },
     "output_type": "display_data"
    }
   ],
   "source": [
    "X = RainedDataset[\"Rained\"].to_numpy(dtype=np.int8)\n",
    "RainBernoulli = Bernoulli(X)\n",
    "test = RainBernoulli.sample(10,20)\n",
    "rainMap(test)"
   ]
  },
  {
   "cell_type": "code",
   "execution_count": 34,
   "metadata": {},
   "outputs": [
    {
     "name": "stdout",
     "output_type": "stream",
     "text": [
      "Negative Log Liklihood of Training Data: 363.01041236232635\n"
     ]
    },
    {
     "data": {
      "image/png": "[encoded data removed]",
      "text/plain": [
       "<Figure size 1440x720 with 1 Axes>"
      ]
     },
     "metadata": {
      "needs_background": "light"
     },
     "output_type": "display_data"
    }
   ],
   "source": [
    "X = RainedDataset[\"Rained\"].head(1000).to_numpy(dtype=np.int8)\n",
    "RainChain = MarkovChain(X)\n",
    "test = RainChain.sample(10,20)\n",
    "rainMap(test)"
   ]
  },
  {
   "cell_type": "code",
   "execution_count": null,
   "metadata": {},
   "outputs": [
    {
     "name": "stderr",
     "output_type": "stream",
     "text": [
      " 21%|██        | 212/1000 [02:36<11:22,  1.15it/s]"
     ]
    }
   ],
   "source": [
    "XYears = np.stack([RainedDataset[RainedDataset[\"Year\"] == y][\"Rained\"].to_numpy(dtype=np.int8)[0:355] for y in RainedDataset[\"Year\"].unique()])\n",
    "RainHMM = HMM(XYears)\n",
    "test = RainHMM.sample(10,20)\n",
    "rainMap(XYears)\n"
   ]
  },
  {
   "cell_type": "markdown",
   "metadata": {},
   "source": [
    "## Model Zoo"
   ]
  },
  {
   "cell_type": "markdown",
   "metadata": {},
   "source": [
    "### Bernoulli Models"
   ]
  },
  {
   "cell_type": "code",
   "execution_count": 28,
   "metadata": {},
   "outputs": [],
   "source": [
    "class Bernoulli():\n",
    "        \n",
    "        def __init__(self, X):\n",
    "            self.p, self.q = self.fit(X)\n",
    "        \n",
    "        # returns p, the probability of rain\n",
    "        def fit(self, X):\n",
    "            X = X.flatten()\n",
    "            ratio = np.bincount(X, minlength=2)/X.size\n",
    "            print(f\"Probability of rain: {ratio[1]}\")\n",
    "            print(f\"Negative Log Liklihood of Training Data: {self._score(X, ratio[1], ratio[0])}\")\n",
    "            return ratio[1], ratio[0]\n",
    "        \n",
    "        def sample(self, length, nsamples=1):\n",
    "            samples = np.zeros((nsamples,length), dtype=np.int64)\n",
    "            for i in range(nsamples):\n",
    "                for j in range(length):\n",
    "                    samples[i,j] =  np.random.choice(2,1,p=[self.p, self.q])\n",
    "            return samples\n",
    "        \n",
    "        def _score(self, X, p, q):\n",
    "            X = X.flatten()\n",
    "            N = X.size\n",
    "            log_prob  = 0.0\n",
    "            for i in range(N):\n",
    "                log_prob -= np.log(p if X[i] else q)\n",
    "            return log_prob/N\n",
    "        \n",
    "        def score(self, X):\n",
    "            return self._score(X, self.p, self.q)"
   ]
  },
  {
   "cell_type": "markdown",
   "metadata": {},
   "source": [
    "### Markov Chains"
   ]
  },
  {
   "cell_type": "code",
   "execution_count": 32,
   "metadata": {},
   "outputs": [],
   "source": [
    "\n",
    "class MarkovChain():\n",
    "    \n",
    "    def __init__(self, X, d_state=2):\n",
    "        self.P, self.pi = self.fit(X,d_state)\n",
    "        self.d = d_state\n",
    "\n",
    "        \n",
    "    def fit(self, X, d_state):\n",
    "        if X.ndim == 1:\n",
    "            X =  X[:,None].T\n",
    "        N,T = np.shape(X)\n",
    "        P = np.zeros((d_state,d_state), dtype=np.float64)\n",
    "        pi = np.bincount(X[:,0], minlength=d_state)/N\n",
    "        transitions = np.bincount(X[:,0:T-1].flatten())\n",
    "        for i in range(d_state):\n",
    "            for j in range(d_state):\n",
    "                P[i,j] = np.sum([np.sum((X[:,t] == i) & (X[:,t+1] == j)) for t in range(T-1)])\n",
    "            P[i] /= transitions[i]\n",
    "        print(f\"Negative Log Liklihood of Training Data: {self._score(X, pi, P)}\")\n",
    "        return P, pi\n",
    "    \n",
    "    \n",
    "    def sample(self, length, nsamples=1):\n",
    "        samples = np.zeros((nsamples,length), dtype=np.int64)\n",
    "        for i in range(nsamples):\n",
    "            samples[i,0] = np.random.choice(self.d,p=self.pi)\n",
    "            for j in range(1,length):\n",
    "                samples[i,j] = np.random.choice(self.d,p=self.P[samples[i,j-1]])\n",
    "        return samples\n",
    "    \n",
    "        \n",
    "    def chapmanKolmogorov(self, time, initial=None):\n",
    "        marginals = np.zeros((self.d,time), dtype=np.float64)\n",
    "        marginals[:,0] = initial if initial is not None else self.pi\n",
    "        for i in range(1,time):\n",
    "            marginals[:,i] = self.P.T @ marginals[:, i - 1]\n",
    "        return marginals\n",
    "    \n",
    "    \n",
    "    def marginals(self, time, method='exact', nsamples=10000):\n",
    "        if method == 'exact':\n",
    "            return self.chapmanKolmogorov(time)[:,time-1]\n",
    "        elif method == 'Monte Carlo':\n",
    "            samples =  self.sample(time,nsamples)\n",
    "            return np.bincount(samples[:,time-1],  minlength=self.d)/nsamples\n",
    "        else:\n",
    "            raise ValueError(\"Method not recognized.\")\n",
    "\n",
    "    def forwardConditionals(self, posterior_time, condition_time,  condition_value, method='exact', nsamples=10000):\n",
    "        assert condition_value < self.d\n",
    "        assert condition_time <= posterior_time\n",
    "        if method == 'exact':\n",
    "            one_hot = np.zeros(self.d)\n",
    "            one_hot[condition_value] = 1.0\n",
    "            return self.chapmanKolmogorov(posterior_time - condition_time + 1, initial=one_hot)[:,posterior_time - condition_time]\n",
    "        elif method == 'Monte Carlo':\n",
    "            samples = self.sample(posterior_time, nsamples)\n",
    "            filtered_samples = samples[samples[:, condition_time - 1] == condition_value]\n",
    "            print(f\"{np.shape(filtered_samples)[0]/nsamples}% of {nsamples} samples were rejected.\")\n",
    "            return np.bincount(filtered_samples[:,posterior_time - 1], minlength=self.d)/np.shape(filtered_samples)[0]\n",
    "        else:\n",
    "            raise ValueError(\"Method not recognized.\")\n",
    "    \n",
    "    def backwardConditionals(self, posterior_time, condition_time,  condition_value, method='exact', nsamples=10000):\n",
    "        assert condition_value < self.d\n",
    "        assert condition_time >= posterior_time\n",
    "        if method == 'exact':\n",
    "            M = self.chapmanKolmogorov(condition_time)\n",
    "            V = np.zeros_like(M)\n",
    "            V[condition_value, condition_time - 1] = 1.0\n",
    "            for i in range(condition_time - 1, 0, -1):\n",
    "                V[:,i-1] = self.P @ V[:,i]\n",
    "            MV = M*V\n",
    "            return MV[:, posterior_time -  1]/np.sum(MV[:, posterior_time -  1])\n",
    "        elif method == 'Monte Carlo':\n",
    "            samples = self.sample(condition_time, nsamples)\n",
    "            filtered_samples = samples[samples[:, condition_time - 1] == condition_value]\n",
    "            print(f\"{np.shape(filtered_samples)[0]/nsamples}% of {nsamples} samples were rejected.\")\n",
    "            return np.bincount(filtered_samples[:,posterior_time - 1], minlength=self.d)/np.shape(filtered_samples)[0]\n",
    "        else:\n",
    "            raise ValueError(\"Method not recognized.\")\n",
    "\n",
    "    \n",
    "    def decode(self, time):\n",
    "        M = np.zeros((self.d,time), dtype=np.float64)\n",
    "        B = np.zeros((self.d,time), dtype=np.int64)\n",
    "        M[:,0] = self.pi\n",
    "        for i in range(1,time):\n",
    "            for j in range(self.d):\n",
    "                transition = [M[k,i-1]*self.P[k,j] for k in range(self.d)]\n",
    "                M[j,i] = np.max(transition)\n",
    "                B[j,i] = np.argmax(transition)\n",
    "        prob = np.max(M[:,time-1])\n",
    "        decoding = np.zeros(time, dtype=np.int64)\n",
    "        decoding[time-1] = np.argmax(M[:,time-1])\n",
    "        for i in range(time - 1, 0, -1):\n",
    "            decoding[i-1] = B[decoding[i], i]\n",
    "        return decoding, prob\n",
    "    \n",
    "    def _score(self, X, pi, P):\n",
    "        if X.ndim == 1:\n",
    "            X =  X[:,None].T\n",
    "        log_prob = 0.0\n",
    "        N, T = np.shape(X)\n",
    "        for i in range(N):\n",
    "            log_prob -= np.log(pi[X[i,0]])\n",
    "            for j in range(1,T):\n",
    "                log_prob -= np.log(P[X[i - 1, j],X[i,j]])\n",
    "        return log_prob/N\n",
    "        \n",
    "    def score(self, X):\n",
    "        return self.score(X, self.pi, self.P)\n",
    "    "
   ]
  },
  {
   "cell_type": "code",
   "execution_count": null,
   "metadata": {},
   "outputs": [],
   "source": [
    "test = np.array([[1,0,1,],[0,1,0]])\n",
    "test = test.flatten()\n",
    "hmm = HMM(test)\n",
    "hmm.sample(10, 10)"
   ]
  },
  {
   "cell_type": "markdown",
   "metadata": {},
   "source": [
    "### Hidden Markov Models"
   ]
  },
  {
   "cell_type": "code",
   "execution_count": 43,
   "metadata": {},
   "outputs": [],
   "source": [
    "class HMM():\n",
    "    \n",
    "    def __init__(self, X, d_hidden=4, d_emission=2):\n",
    "        self.d = d_emission\n",
    "        self.h = d_hidden\n",
    "        self.pi, self.P, self.O,  = self.fit(X, d_hidden, d_emission)\n",
    "    \n",
    "    # Baum-Welch algorithm\n",
    "    def fit(self, X, d_hidden, d_emission,  maxiters=1000, eps=1.0e-8):\n",
    "        if X.ndim == 1:\n",
    "            X = X[:,None].T\n",
    "        N, T = np.shape(X)\n",
    "        pi = np.random.uniform(0, 1, d_hidden)\n",
    "        P  = np.random.uniform(0, 1, (d_hidden,d_hidden))\n",
    "        O  = np.random.uniform(0, 1, (d_hidden, d_emission))\n",
    "        delta = np.inf\n",
    "        for i in tqdm.tqdm(range(maxiters)):\n",
    "            gamma = np.zeros((N, T, d_hidden), dtype=np.float64)\n",
    "            xi = np.zeros(((N, T-1, d_hidden, d_hidden)), dtype=np.float64)\n",
    "            \n",
    "            for r in range(N):\n",
    "                sample = X[r]\n",
    "                alpha = self.forward(sample, pi, P, O)\n",
    "                beta = self.backward(sample, pi, P, O)               \n",
    "                gamma[r] = (alpha*beta)/np.sum((alpha*beta), axis=1)[:,None]\n",
    "                for t in range(T-1):\n",
    "                    xi[r,t] = alpha[t][:,None]*P*beta[t+1]*O[:,sample[t+1]]\n",
    "                    xi[r,t] /= np.sum(xi[r,t])\n",
    "            \n",
    "            pi_new = (1/N)*np.sum(gamma[:,0], axis=0)\n",
    "            P_new  = np.sum(xi, axis=(0,1))/np.sum(gamma[:,:-1], axis=(0,1))[:,None]\n",
    "            O_new = O\n",
    "            for o in range(d_emission):\n",
    "                filtered_gamma = gamma[X == o]\n",
    "                O_new[:,o] = np.sum(filtered_gamma, axis=0)/np.sum(gamma, axis=(0,1))\n",
    "                \n",
    "            delta = np.linalg.norm(pi - pi_new) + np.linalg.norm(P - P_new) + np.linalg.norm(O - O_new)\n",
    "            pi, P, O = pi_new, P_new, O_new    \n",
    "            \n",
    "            if delta < eps:\n",
    "                break\n",
    "            \n",
    "        print(f\"Iterations Taken to Fit: {i}\")\n",
    "        print(f\"Final Delta Value: {delta}\")\n",
    "        print(f\"Negative Log Liklihood of Training Data: {self._score(X, pi, P, O)}\")\n",
    "        return pi, P, O\n",
    "    \n",
    "    \n",
    "    def forward(self, sample, pi, P, O):\n",
    "        T = sample.size\n",
    "        alpha = np.zeros((T, self.h), dtype=np.float64)\n",
    "        alpha[0] = pi*O[:,sample[0]]\n",
    "        for t in range(T-1):\n",
    "            alpha[t+1] = O[:,sample[t+1]]*(P.T @ alpha[t])\n",
    "        return alpha\n",
    "    \n",
    "    def backward(self, sample, pi, P, O):\n",
    "        T = sample.size\n",
    "        beta = np.zeros((T, self.h), dtype=np.float64)\n",
    "        beta[T-1, :] = 1.0\n",
    "        for t in range(T-2,-1,-1):\n",
    "            beta[t] = P @ (beta[t+1]*O[:,sample[t+1]])\n",
    "        return beta\n",
    "    \n",
    "    def bayesianFilter(self, sample):\n",
    "        alpha = self.forward(sample, self.pi, self.P, self.O)\n",
    "        beta = self.backward(sample, self.pi, self.P, self.O)\n",
    "        gamma = (alpha*beta)/np.sum((alpha*beta), axis=1)[:,None]\n",
    "        return gamma[-1]\n",
    "    \n",
    "    def decode(self, sample):\n",
    "        time = sample.size\n",
    "        M = np.zeros((self.h,time), dtype=np.float64)\n",
    "        B = np.zeros((self.h,time), dtype=np.int64)\n",
    "        M[:,0] = self.pi*self.O[:, sample[0]]\n",
    "        for t in range(1,time):\n",
    "            for j in range(self.h):\n",
    "                transition = [M[k,t-1]*self.P[k,j]*self.O[k, sample[sample[t]]] for k in range(self.h)]\n",
    "                M[j,t] = np.max(transition)\n",
    "                B[j,t] = np.argmax(transition)\n",
    "        prob = np.max(M[:,time-1])\n",
    "        decoding = np.zeros(time, dtype=np.int64)\n",
    "        decoding[time-1] = np.argmax(M[:,time-1])\n",
    "        for t in range(time - 1, 0, -1):\n",
    "            decoding[t-1] = B[decoding[t], t]\n",
    "        return decoding, prob\n",
    "\n",
    "\n",
    "    \n",
    "    def sample(self, length, nsamples=1):\n",
    "        samples = np.zeros((nsamples,length), dtype=np.int64)\n",
    "        for i in range(nsamples):\n",
    "            z = np.random.choice(self.h,p=self.pi)\n",
    "            samples[i,0] = np.random.choice(self.d, p=self.O[z])\n",
    "            for j in range(1,length):\n",
    "                z = np.random.choice(self.h,p=self.P[z])\n",
    "                samples[i,j] = np.random.choice(self.d, p=self.O[z])\n",
    "        return samples\n",
    "    \n",
    "    def _score(self, X, pi, P, O):\n",
    "        if X.ndim == 1:\n",
    "            X =  X[:,None].T\n",
    "        log_prob = 0.0\n",
    "        N, T = np.shape(X)\n",
    "        for i in range(N):\n",
    "            sample = X[i]\n",
    "            alpha = self.forward(sample, pi, P, O)\n",
    "            log_prob -= np.log(np.sum(alpha[-1]))\n",
    "        return log_prob/N\n",
    "\n",
    "    def score(self, X):\n",
    "        return self._score(X, self.pi, self.P, self.O)\n",
    "\n",
    "    "
   ]
  },
  {
   "cell_type": "code",
   "execution_count": 30,
   "metadata": {},
   "outputs": [],
   "source": [
    "\n",
    "# TODO\n",
    "class VRNN(torch.nn.Module):\n",
    "    \n",
    "    def __init__(self):\n",
    "        pass\n",
    "    \n",
    "    def fit(self):\n",
    "        pass\n",
    "    \n",
    "    def sample(self):\n",
    "        pass\n",
    "    \n",
    "    def predict(self):\n",
    "        pass"
   ]
  },
  {
   "cell_type": "markdown",
   "metadata": {},
   "source": [
    "\n",
    "### stuff to do \n",
    "\n",
    "\n",
    "Markov chain:\n",
    "\n",
    "Fit per year\n",
    "\n",
    "Fit per month\n",
    "\n",
    "Fit per season\n",
    "\n",
    "Fit across all data\n",
    "\n",
    "Time inhomogeneous per day (data permitting)\n",
    "\n",
    "Maybe higher order chain\n",
    "\n",
    "\n",
    "HMM:\n",
    "\n",
    "Across all data\n",
    "Across year\n",
    "\n",
    "Implement baum welch\n",
    "Implement forward backward\n",
    "\n",
    "\n",
    "can do a classifier HMM\n",
    "\n",
    "\n",
    "overkill options:\n",
    "\n",
    "VRNN:\n",
    "\n",
    "Same stuff\n",
    "\n",
    "Transformer:\n",
    "\n",
    "Same stuff\n",
    "\n",
    "\n",
    "Maybe do some viz \n",
    "Would be nice to  get a t-SNE decomposition that shows sort of seasons\n",
    "\n",
    "\n",
    "More rich feature representations\n",
    "\n",
    "\n",
    "\n",
    "https://climate.weather.gc.ca/historical_data/search_historic_data_e.html\n",
    "\n",
    "\n"
   ]
  },
  {
   "cell_type": "code",
   "execution_count": null,
   "metadata": {},
   "outputs": [],
   "source": [
    "test_mat = np.array([[1,0,1],\n",
    "                    [0,1,0],\n",
    "                    [1,1,0]])\n",
    "# test_mat = np.array([[1,1],\n",
    "#                      [0,1],\n",
    "#                      [1,0],\n",
    "#                      [0,0]])\n",
    "chain  = MarkovChain(test_mat)\n",
    "chain.sample(10)\n",
    "# print(chain.P)\n",
    "# print(chain.pi)\n",
    "# print(chain.marginals(10, method='exact'))\n",
    "# print(chain.marginals(10, method='Monte Carlo'))\n",
    "\n",
    "S, U = np.linalg.eig(chain.P.T)\n",
    "stationary = np.array(U[:, np.where(np.abs(S - 1.) < 1e-8)[0][0]].flat)\n",
    "stationary = stationary / np.sum(stationary)\n",
    "# print(stationary)\n",
    "# print(chain.backwardConditionals(1, 10,0, method='exact'))\n",
    "# print(chain.backwardConditionals(1, 10,0, method='Monte Carlo', nsamples=10000))\n",
    "\n",
    "\n",
    "\n",
    "\n",
    "    "
   ]
  },
  {
   "cell_type": "code",
   "execution_count": null,
   "metadata": {},
   "outputs": [],
   "source": []
  }
 ],
 "metadata": {
  "kernelspec": {
   "display_name": "Python 3",
   "language": "python",
   "name": "python3"
  },
  "language_info": {
   "codemirror_mode": {
    "name": "ipython",
    "version": 3
   },
   "file_extension": ".py",
   "mimetype": "text/x-python",
   "name": "python",
   "nbconvert_exporter": "python",
   "pygments_lexer": "ipython3",
   "version": "3.7.2"
  }
 },
 "nbformat": 4,
 "nbformat_minor": 2
}
